{
  "nbformat": 4,
  "nbformat_minor": 0,
  "metadata": {
    "colab": {
      "name": "DeepTime: Markov",
      "provenance": [],
      "collapsed_sections": [],
      "authorship_tag": "ABX9TyO6i3Wp86s2OiIXPKYzuuQg",
      "include_colab_link": true
    },
    "kernelspec": {
      "name": "python3",
      "display_name": "Python 3"
    },
    "language_info": {
      "name": "python"
    }
  },
  "cells": [
    {
      "cell_type": "markdown",
      "metadata": {
        "id": "view-in-github",
        "colab_type": "text"
      },
      "source": [
        "<a href=\"https://colab.research.google.com/github/giorginolab/Markov-Tutorial-UniMi-2021/blob/main/DeepTime_Markov.ipynb\" target=\"_parent\"><img src=\"https://colab.research.google.com/assets/colab-badge.svg\" alt=\"Open In Colab\"/></a>"
      ]
    },
    {
      "cell_type": "markdown",
      "source": [
        "# Tutorial on Markov Models \n",
        "\n",
        "Toni Giorgino - toni.giorgino@cnr.it\n",
        "\n",
        "This notebook provides an overview on how to use the DeepTime library to estimate Markov Models.\n",
        "\n",
        "Useful links:\n",
        "\n",
        "* DeepTime documentation: https://deeptime-ml.github.io\n",
        "* Repository: https://github.com/deeptime-ml/deeptime\n",
        "* Paper: Hoffmann M, Scherer M, Hempel T, Mardt A, Silva B de, Husic BE, et al. Deeptime: a Python library for machine learning dynamical models from time series data. Mach Learn: Sci Technol. 2021 Dec;3(1):015009. [10.1088/2632-2153/ac3de0](https://iopscience.iop.org/article/10.1088/2632-2153/ac3de0)\n",
        "\n",
        "## Transition counting\n",
        "\n",
        "For a very simple introduction on the counting functions of  the library, see https://deeptime-ml.github.io/latest/notebooks/transition-counting.html .\n",
        "\n",
        "\n"
      ],
      "metadata": {
        "id": "VA6IORcJS1Gb"
      }
    },
    {
      "cell_type": "code",
      "execution_count": null,
      "metadata": {
        "colab": {
          "base_uri": "https://localhost:8080/"
        },
        "id": "C0V2E2Y1SvWK",
        "outputId": "6dd7865a-6ff5-4e3f-8b82-4c732b593afc"
      },
      "outputs": [
        {
          "output_type": "stream",
          "name": "stdout",
          "text": [
            "Requirement already satisfied: deeptime in /usr/local/lib/python3.7/dist-packages (0.3.1)\n",
            "Requirement already satisfied: scikit-learn in /usr/local/lib/python3.7/dist-packages (from deeptime) (1.0.1)\n",
            "Requirement already satisfied: numpy in /usr/local/lib/python3.7/dist-packages (from deeptime) (1.19.5)\n",
            "Requirement already satisfied: threadpoolctl in /usr/local/lib/python3.7/dist-packages (from deeptime) (3.0.0)\n",
            "Requirement already satisfied: scipy in /usr/local/lib/python3.7/dist-packages (from deeptime) (1.4.1)\n",
            "Requirement already satisfied: joblib>=0.11 in /usr/local/lib/python3.7/dist-packages (from scikit-learn->deeptime) (1.1.0)\n"
          ]
        }
      ],
      "source": [
        "!pip install deeptime"
      ]
    },
    {
      "cell_type": "code",
      "source": [
        "import numpy as np\n",
        "import deeptime\n",
        "from deeptime.markov import TransitionCountEstimator\n",
        "import matplotlib.pyplot as plt\n",
        "import networkx as nx\n",
        "\n",
        "count_estimator = TransitionCountEstimator(\n",
        "    lagtime=1,\n",
        "    count_mode=\"sliding\"\n",
        ")"
      ],
      "metadata": {
        "id": "r69trXjBUIhq"
      },
      "execution_count": null,
      "outputs": []
    },
    {
      "cell_type": "code",
      "source": [
        "trajectory = np.array([0, 1, 2, 3, 4, 5, 4, 3, 2, 1, 0, 1, 2, 3, 4, 5, 6, 5, 4, 3, 2, 1, 7])"
      ],
      "metadata": {
        "id": "QIiXviKbbL0C"
      },
      "execution_count": null,
      "outputs": []
    },
    {
      "cell_type": "code",
      "source": [
        "plt.plot(trajectory,\"o-\")"
      ],
      "metadata": {
        "colab": {
          "base_uri": "https://localhost:8080/",
          "height": 283
        },
        "id": "h1eRUunib1nK",
        "outputId": "2d80af29-54e9-43f6-99f0-f08a3149c4c3"
      },
      "execution_count": null,
      "outputs": [
        {
          "output_type": "execute_result",
          "data": {
            "text/plain": [
              "[<matplotlib.lines.Line2D at 0x7fd68aceae10>]"
            ]
          },
          "metadata": {},
          "execution_count": 32
        },
        {
          "output_type": "display_data",
          "data": {
            "image/png": "[encoded data removed]",
            "text/plain": [
              "<Figure size 432x288 with 1 Axes>"
            ]
          },
          "metadata": {
            "needs_background": "light"
          }
        }
      ]
    },
    {
      "cell_type": "code",
      "source": [
        "counts = count_estimator.fit(trajectory).fetch_model()  # fit and fetch the model"
      ],
      "metadata": {
        "id": "dBdpJDmNaYVI"
      },
      "execution_count": null,
      "outputs": []
    },
    {
      "cell_type": "code",
      "source": [
        "counts.count_matrix"
      ],
      "metadata": {
        "colab": {
          "base_uri": "https://localhost:8080/"
        },
        "id": "NKNHFY_tbTfJ",
        "outputId": "4751541c-66a4-4720-a9b6-5428cc2b8be4"
      },
      "execution_count": null,
      "outputs": [
        {
          "output_type": "execute_result",
          "data": {
            "text/plain": [
              "array([[0., 2., 0., 0., 0., 0., 0., 0.],\n",
              "       [1., 0., 2., 0., 0., 0., 0., 1.],\n",
              "       [0., 2., 0., 2., 0., 0., 0., 0.],\n",
              "       [0., 0., 2., 0., 2., 0., 0., 0.],\n",
              "       [0., 0., 0., 2., 0., 2., 0., 0.],\n",
              "       [0., 0., 0., 0., 2., 0., 1., 0.],\n",
              "       [0., 0., 0., 0., 0., 1., 0., 0.],\n",
              "       [0., 0., 0., 0., 0., 0., 0., 0.]])"
            ]
          },
          "metadata": {},
          "execution_count": 34
        }
      ]
    },
    {
      "cell_type": "code",
      "source": [
        "counts.state_histogram"
      ],
      "metadata": {
        "colab": {
          "base_uri": "https://localhost:8080/"
        },
        "id": "sbUeFjg8biDC",
        "outputId": "374a06e6-a142-4ba2-87c3-bf609982ac09"
      },
      "execution_count": null,
      "outputs": [
        {
          "output_type": "execute_result",
          "data": {
            "text/plain": [
              "array([2, 4, 4, 4, 4, 3, 1, 1])"
            ]
          },
          "metadata": {},
          "execution_count": 35
        }
      ]
    },
    {
      "cell_type": "code",
      "source": [
        "plt.bar(np.arange(len(counts.state_histogram)),\n",
        "        counts.state_histogram)"
      ],
      "metadata": {
        "colab": {
          "base_uri": "https://localhost:8080/",
          "height": 283
        },
        "id": "MhbKGcSlRjf1",
        "outputId": "23624263-2828-448a-f788-74b83972c036"
      },
      "execution_count": null,
      "outputs": [
        {
          "output_type": "execute_result",
          "data": {
            "text/plain": [
              "<BarContainer object of 8 artists>"
            ]
          },
          "metadata": {},
          "execution_count": 54
        },
        {
          "output_type": "display_data",
          "data": {
            "image/png": "[encoded data removed]",
            "text/plain": [
              "<Figure size 432x288 with 1 Axes>"
            ]
          },
          "metadata": {
            "needs_background": "light"
          }
        }
      ]
    },
    {
      "cell_type": "code",
      "source": [
        "G = nx.from_numpy_matrix(counts.count_matrix, create_using=nx.DiGraph())\n",
        "pos = nx.circular_layout(G)\n",
        "nx.draw_circular(G, node_color='#90EE90')\n",
        "nx.draw_networkx_labels(G, pos, labels={i: i for i in G.nodes()}, font_size=15)\n",
        "plt.show()\n"
      ],
      "metadata": {
        "colab": {
          "base_uri": "https://localhost:8080/",
          "height": 319
        },
        "id": "qiCWc4epbkfL",
        "outputId": "a658b566-5356-4c01-c095-71b971c9e952"
      },
      "execution_count": null,
      "outputs": [
        {
          "output_type": "display_data",
          "data": {
            "image/png": "[encoded data removed]",
            "text/plain": [
              "<Figure size 432x288 with 1 Axes>"
            ]
          },
          "metadata": {}
        }
      ]
    },
    {
      "cell_type": "code",
      "source": [
        "import deeptime.markov as markov\n",
        "\n",
        "msm_estimator = markov.msm.MaximumLikelihoodMSM(\n",
        "    reversible=True,\n",
        "    stationary_distribution_constraint=None\n",
        ")"
      ],
      "metadata": {
        "id": "xvTj3jR_bqvE"
      },
      "execution_count": null,
      "outputs": []
    },
    {
      "cell_type": "code",
      "source": [
        "msm = msm_estimator.fit(counts).fetch_model()"
      ],
      "metadata": {
        "colab": {
          "base_uri": "https://localhost:8080/"
        },
        "id": "CcxwLjmiPcap",
        "outputId": "93e8d05f-5d90-4f69-bdd7-dda4b82b3611"
      },
      "execution_count": null,
      "outputs": [
        {
          "output_type": "stream",
          "name": "stderr",
          "text": [
            "Skipping state set [7] due to error in estimation: Some row and corresponding column of the count matrix C have zero counts..\n"
          ]
        }
      ]
    },
    {
      "cell_type": "code",
      "source": [
        "msm"
      ],
      "metadata": {
        "colab": {
          "base_uri": "https://localhost:8080/"
        },
        "id": "6RA0ItXcP7yA",
        "outputId": "a2b2cafe-f8d0-482b-f2f6-ecaaf77ae7a5"
      },
      "execution_count": null,
      "outputs": [
        {
          "output_type": "execute_result",
          "data": {
            "text/plain": [
              "MarkovStateModelCollection-140559429158096:count_models=None,\n",
              "                      reversible=True, stationary_distributions=None,\n",
              "                      transition_matrices=None,\n",
              "                      transition_matrix_tolerance=1e-06]"
            ]
          },
          "metadata": {},
          "execution_count": 39
        }
      ]
    },
    {
      "cell_type": "code",
      "source": [
        "msm.transition_matrix"
      ],
      "metadata": {
        "colab": {
          "base_uri": "https://localhost:8080/"
        },
        "id": "W8xWdbObP91A",
        "outputId": "372e0e73-98f5-4e99-e5c2-e9c95227a130"
      },
      "execution_count": null,
      "outputs": [
        {
          "output_type": "execute_result",
          "data": {
            "text/plain": [
              "array([[0.        , 1.        , 0.        , 0.        , 0.        ,\n",
              "        0.        , 0.        ],\n",
              "       [0.33333334, 0.        , 0.66666666, 0.        , 0.        ,\n",
              "        0.        , 0.        ],\n",
              "       [0.        , 0.50000001, 0.        , 0.49999999, 0.        ,\n",
              "        0.        , 0.        ],\n",
              "       [0.        , 0.        , 0.50000001, 0.        , 0.49999999,\n",
              "        0.        , 0.        ],\n",
              "       [0.        , 0.        , 0.        , 0.50000001, 0.        ,\n",
              "        0.49999999, 0.        ],\n",
              "       [0.        , 0.        , 0.        , 0.        , 0.66666667,\n",
              "        0.        , 0.33333333],\n",
              "       [0.        , 0.        , 0.        , 0.        , 0.        ,\n",
              "        1.        , 0.        ]])"
            ]
          },
          "metadata": {},
          "execution_count": 40
        }
      ]
    },
    {
      "cell_type": "code",
      "source": [
        "msm.stationary_distribution"
      ],
      "metadata": {
        "colab": {
          "base_uri": "https://localhost:8080/"
        },
        "id": "2kgNdFRsQSrt",
        "outputId": "f1ddf153-da59-4e45-c781-e89f9fff95c0"
      },
      "execution_count": null,
      "outputs": [
        {
          "output_type": "execute_result",
          "data": {
            "text/plain": [
              "array([0.05      , 0.15000001, 0.20000001, 0.2       , 0.19999999,\n",
              "       0.14999999, 0.05      ])"
            ]
          },
          "metadata": {},
          "execution_count": 41
        }
      ]
    },
    {
      "cell_type": "code",
      "source": [
        "plt.bar(np.arange(len(msm.stationary_distribution)),\n",
        "        msm.stationary_distribution)"
      ],
      "metadata": {
        "colab": {
          "base_uri": "https://localhost:8080/",
          "height": 283
        },
        "id": "X966fGQ1QVKA",
        "outputId": "49560351-e6a2-4e0c-c98b-de7bea4fd341"
      },
      "execution_count": null,
      "outputs": [
        {
          "output_type": "execute_result",
          "data": {
            "text/plain": [
              "<BarContainer object of 7 artists>"
            ]
          },
          "metadata": {},
          "execution_count": 51
        },
        {
          "output_type": "display_data",
          "data": {
            "image/png": "[encoded data removed]",
            "text/plain": [
              "<Figure size 432x288 with 1 Axes>"
            ]
          },
          "metadata": {
            "needs_background": "light"
          }
        }
      ]
    },
    {
      "cell_type": "code",
      "source": [
        ""
      ],
      "metadata": {
        "id": "BlXqrY0kQlXX"
      },
      "execution_count": null,
      "outputs": []
    }
  ]
}