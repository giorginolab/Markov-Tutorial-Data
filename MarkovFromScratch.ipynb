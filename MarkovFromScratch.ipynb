{
  "cells": [
    {
      "cell_type": "markdown",
      "metadata": {
        "id": "VqiK5B-SujJx"
      },
      "source": [
        "# Simple demonstration of discrete Markov processes\n",
        "\n",
        "Toni Giorgino (IBF-CNR)\n",
        "\n",
        "You should run this notebook in an R instance or Google Colab.\n",
        "[![Open In Colab](https://colab.research.google.com/assets/colab-badge.svg)](https://colab.research.google.com/github/giorginolab/Markov-Tutorial-UniPd-2022/blob/main/MarkovFromScratch.ipynb)\n"
      ]
    },
    {
      "cell_type": "markdown",
      "metadata": {
        "id": "nMLdzsaDujJ4"
      },
      "source": [
        "\n",
        "# Introduction\n",
        "\n",
        "This file shows the basic concept of Markov State Model (MSM)\n",
        "building \"from the ground up\", i.e. without using one\n",
        "of the specialized libraries. It is implemented in the\n",
        "R language, and can be trivially translated into\n",
        "any other supporting linear algebra functions (notably,\n",
        "eigendecomposition).\n",
        "\n",
        "We first load the trajectory. It was\n",
        "constructed as the location of a walker\n",
        "moving stochastically in a 1D double-well\n",
        "potential. There are 100,000 trajectory steps.\n",
        "The motion takes place in a finite, 100-states \n",
        "space corresponding to the X positions (in other words,\n",
        "the trajectory has already been converted into microstates).\n",
        "\n",
        "(This is the same trajectory distributed\n",
        "with PyEmma's `load_2well_discrete` function.\n",
        "The `d10` version has the same number of points,\n",
        "but decimated by a factor of 10 (so 10 times longer). For\n",
        "PyEmma see http://emma-project.org and the \n",
        "corresponding paper (see references at the bottom).\n"
      ]
    },
    {
      "cell_type": "code",
      "execution_count": 1,
      "metadata": {
        "id": "JpbXIhkZujKC",
        "outputId": "d56c582d-894f-4d84-cdbb-955495529235",
        "colab": {
          "base_uri": "https://localhost:8080/",
          "height": 226
        }
      },
      "outputs": [
        {
          "output_type": "stream",
          "name": "stderr",
          "text": [
            "Warning message in file(file, \"rt\"):\n",
            "“cannot open file 'data1.csv.gz': No such file or directory”\n"
          ]
        },
        {
          "output_type": "error",
          "ename": "ERROR",
          "evalue": "ignored",
          "traceback": [
            "Error in file(file, \"rt\"): cannot open the connection\nTraceback:\n",
            "1. read.csv(\"data1.csv.gz\", head = F)",
            "2. read.table(file = file, header = header, sep = sep, quote = quote, \n .     dec = dec, fill = fill, comment.char = comment.char, ...)",
            "3. file(file, \"rt\")"
          ]
        }
      ],
      "source": [
        "d1<-read.csv(\"data1.csv.gz\",head=F)$V1\n",
        "d10<-read.csv(\"data10.csv.gz\",head=F)$V1\n",
        "\n",
        "d<-d1       # Work on d1\n",
        "\n",
        "plot(d,type=\"p\",cex=.5,\n",
        "     ylab=\"State (X coordinate, 1 to 100)\",\n",
        "     xlab=\"Time (au)\")"
      ]
    },
    {
      "cell_type": "markdown",
      "metadata": {
        "id": "NEGsisOXujKJ"
      },
      "source": [
        "\n",
        "## State probabilities and Boltzmann inversion\n",
        "\n",
        "Without considering the kinetics, and\n",
        "assuming the sampled trajectory was \n",
        "sufficiently long (sufficient sampling\n",
        "of the equilibrium distribution)\n",
        "we can try to compute the underlying\n",
        "free-energy potential by the probability\n",
        "distribution of the states, i.e. how many\n",
        "times (= fraction of the total time \n",
        "spent) each was visited."
      ]
    },
    {
      "cell_type": "code",
      "execution_count": null,
      "metadata": {
        "id": "oQ-e5aiqujKN"
      },
      "outputs": [],
      "source": [
        "h<-table(d)\n",
        "plot(h, xlab=\"State (X coordinate, 1 to 100)\",\n",
        "     ylab = \"Count\")"
      ]
    },
    {
      "cell_type": "markdown",
      "metadata": {
        "id": "vOs5L3NSujKO"
      },
      "source": [
        "\n",
        "Boltzmann inversion (note that $k_BT=1$) returns\n",
        "the $\\Delta G$ (up to an irrelevant additive constant)."
      ]
    },
    {
      "cell_type": "code",
      "execution_count": null,
      "metadata": {
        "id": "BPouUBmYujKP"
      },
      "outputs": [],
      "source": [
        "plot(10-log(h),ylim=c(0,10),\n",
        "     xlab=\"State (X coordinate, 1 to 100)\",\n",
        "     ylab=\"ΔG (a.u.) = -log(count)\"\n",
        "     )"
      ]
    },
    {
      "cell_type": "markdown",
      "metadata": {
        "id": "RuhPp7AMujKQ"
      },
      "source": [
        "\n",
        "# Markov state modeling\n",
        "\n",
        "## Construction of the transition matrix\n",
        "\n",
        "We compute how many times each state to state ($i\\to j$)\n",
        "transition has occurred *after a lag time of $\\tau$*.\n"
      ]
    },
    {
      "cell_type": "code",
      "execution_count": null,
      "metadata": {
        "id": "dMVkzneBujKS"
      },
      "outputs": [],
      "source": [
        "tau <- 10\n",
        "lab <- sort(unique(d))\n",
        "TT <- table( head(d,-tau),\n",
        "            tail(d,-tau))"
      ]
    },
    {
      "cell_type": "markdown",
      "metadata": {
        "id": "EybCRuUnujKU"
      },
      "source": [
        "The transition probability matrix is large (~ 100x100)\n",
        "but we may visualize it as an image"
      ]
    },
    {
      "cell_type": "code",
      "execution_count": null,
      "metadata": {
        "id": "bdqxA1q9ujKV"
      },
      "outputs": [],
      "source": [
        "image(lab,lab,TT,\n",
        "      xlab=\"Source state\",ylab=\"Destination state\")"
      ]
    },
    {
      "cell_type": "markdown",
      "metadata": {
        "id": "qBGHMqFSujKY"
      },
      "source": [
        "\n",
        "Of course, transitions around the two\n",
        "free energy wells are sampled more often, so they show\n",
        "up clearly.\n",
        "\n",
        "We divide each row of the transition\n",
        "count  matrix so that they\n",
        "sum to unity. We thus obtain the\n",
        "transition *probability* matrix. Note\n",
        "that, for simplicity, this is a simplified\n",
        "treatment in the following respects: (1) \n",
        "one should take care\n",
        "of reversibility, (2) use a maximum-likelihood\n",
        "estimator, and (3) deal properly with zero counts\n",
        "(which cause singularities)."
      ]
    },
    {
      "cell_type": "code",
      "execution_count": null,
      "metadata": {
        "id": "bmdiBEYfujKY"
      },
      "outputs": [],
      "source": [
        "\n",
        "sum1 <- function(x) (x/sum(x))\n",
        "P <- t(apply(TT,2,sum1 ))\n",
        "image(lab,lab,P,\n",
        "      xlab=\"Source state\",ylab=\"Destination state\")"
      ]
    },
    {
      "cell_type": "markdown",
      "metadata": {
        "id": "UvIP1Yg4ujKZ"
      },
      "source": [
        "\n",
        "## Eigenvalues\n",
        "\n",
        "From the transition probability matrix **at lag $\\tau$**\n",
        "we compute the *left*  eigenvectors and eigenvalues.\n",
        "\n",
        "The eigenvalues correspond to the relaxation \n",
        "rates towards equilibrium. The largest eigenvalue\n",
        "is unity, corresponding to the stationary state.\n",
        "\n",
        "Eigenvalues describe the negative *exponential* relaxation time scales, in units of $\\tau$. Therefore, \n",
        "the should be converted to \"normal\" time units\n",
        "throught the *implied time scales* (ITS) equation, i.e.:\n",
        "\n",
        "$$\\tau_i = -\\tau/\\log(\\mu_i)$$\n",
        "\n",
        "where $\\tau_i$ is the $i$-th implied time scale and $\\mu_i$\n",
        "the corresponding eigenvalue.\n"
      ]
    },
    {
      "cell_type": "code",
      "execution_count": null,
      "metadata": {
        "id": "q9JFDcoBujKa"
      },
      "outputs": [],
      "source": [
        "ei <- eigen(t(P))\n",
        "eva <- sort(abs(ei$values),decreasing = T)\n",
        "eve <- ei$vectors\n",
        "\n",
        "taus <- -tau/log(eva[-1])\n",
        "\n",
        "plot(eva,ylab=\"Eigenvalue magnitue\",xlab=\"Eigenvalue index (sorted)\")\n",
        "\n",
        "plot(c(NA,taus),ylab=\"Implied timescale\")\n",
        "abline(h=tau,col=\"red\")"
      ]
    },
    {
      "cell_type": "markdown",
      "metadata": {
        "id": "l9QR9I4gujKb"
      },
      "source": [
        "\n",
        "Given the  spread of timescales is usually\n",
        "large, we plot them in logarithmic scale.\n",
        "\n",
        "Kinetics faster than $\\tau$ can **not** be \n",
        "resolved by construction of the transition\n",
        "matrix."
      ]
    },
    {
      "cell_type": "code",
      "execution_count": null,
      "metadata": {
        "id": "o1zTGFYBujKd"
      },
      "outputs": [],
      "source": [
        "plot(c(NA,taus),ylab=\"Implied timescale (log)\",log=\"y\")\n",
        "abline(h=tau,col=\"red\")\n",
        "text(50,5,\"Kinetics faster than τ\\nnot resolved by construction\",\n",
        "     col=\"red\")"
      ]
    },
    {
      "cell_type": "markdown",
      "metadata": {
        "id": "dUqimqZ5ujKf"
      },
      "source": [
        "\n",
        "## Eigenvectors\n",
        "\n",
        "\n",
        "Eigenvectors matching a given eigenvalue describe \n",
        "the \"contribution\" of each state to that relaxation\n",
        "mode.  The eigenvector of the unitary eigenvalue\n",
        "is the stationary distribution, i.e. the equilibrium\n",
        "(after normalizing it so it sums to 1).\n",
        "Its Boltzmann inversion provides the free energy landscape.\n"
      ]
    },
    {
      "cell_type": "code",
      "execution_count": null,
      "metadata": {
        "id": "yIByleyiujKf"
      },
      "outputs": [],
      "source": [
        "\n",
        "ev0 <- Re(eve[,1])\n",
        "ev0dg <- -log(ev0)+max(log(ev0))-2\n",
        "\n",
        "plot(lab,sum1(ev0),\n",
        "     xlab=\"State\",ylab=\"Equilibrium probability\")"
      ]
    },
    {
      "cell_type": "markdown",
      "metadata": {
        "id": "EfR_9BpcujKg"
      },
      "source": [
        "\n",
        "The other eigenvector describe the \n",
        "\"wave\" of the relaxation (at the matching\n",
        "implied timescale).\n"
      ]
    },
    {
      "cell_type": "code",
      "execution_count": null,
      "metadata": {
        "id": "UwHMJdYnujKk"
      },
      "outputs": [],
      "source": [
        "\n",
        "ev1 <- 2*scale(Re(eve[,2]))\n",
        "plot(lab,ev1,\n",
        "     xlab=\"State\",ylab=\"Contribution (au)\",\n",
        "     main=\"Slowest relaxation mode\")\n",
        "polygon(lab,ev1,col=\"gray\")\n",
        "#lines(lab,sum1(ev0)*20,col=\"red\",lty=2)\n",
        "lines(lab,ev0dg,col=\"red\",lty=2)\n",
        "mtext(sprintf(\"%.2f time units\",taus[1]),3)\n",
        "legend(\"bottomleft\",col=1:2,lty=1:2,\n",
        "       c(\"Second eigenvector\",\n",
        "         \"Free energy profile\"))\n",
        "\n",
        "ev2 <- 2*scale(Re(eve[,3]))\n",
        "plot(lab,ev2,\n",
        "     xlab=\"State\",ylab=\"Contribution (au)\",\n",
        "     main=\"2nd slowest mode\")\n",
        "polygon(lab,ev2,col=\"gray\")\n",
        "lines(lab,ev0dg,col=\"red\",lty=2)\n",
        "legend(\"bottomleft\",col=1:2,lty=1:2,\n",
        "       c(\"Third eigenvector\",\n",
        "         \"Free energy profile\"))\n",
        "mtext(sprintf(\"%.2f time units\",taus[2]),3)\n"
      ]
    },
    {
      "cell_type": "markdown",
      "metadata": {
        "id": "HIgYrHPsujKl"
      },
      "source": [
        "\n",
        "The shape of  the eigenvectors suggests\n",
        "a clustering into coarser-grained macrostates.\n",
        "This constitutes the gist of \n",
        "the Perron-cluster analysis (PCCA+).\n",
        "\n",
        "\n",
        "\n",
        "## Choice of the lag time\n",
        "\n",
        "Remember that the transition matrix \n",
        "was, by construction,    **a function of $\\tau$**.\n",
        "Therefore, the whole eigenvector analysis \n",
        "shown before should be repeated at increasing\n",
        "values of $\\tau$ to study its sensitivity.\n",
        "\n",
        "We pick the smallest $\\tau$ such that the implied\n",
        "timescales are effectively \"flat\". Again,\n",
        "the literature provides much more sophisticated\n",
        "statistical tests\n",
        "on the Markovianity assumption (e.g. Chapman-Kolmogorov).\n",
        "See e.g. [PyEmma's Model selection and validation](http://www.emma-project.org/latest/generated/model_selection_validation.html) tutorial.\n"
      ]
    },
    {
      "cell_type": "code",
      "execution_count": null,
      "metadata": {
        "id": "iBltqKV3ujKm"
      },
      "outputs": [],
      "source": [
        "\n",
        "evanalysis <- function(tau) {\n",
        "    TT <- table( head(d,-tau),\n",
        "            tail(d,-tau))\n",
        "    P <- t(apply(TT,2,sum1 ))\n",
        "    ei <- eigen(t(P))\n",
        "    eva <- sort(abs(ei$values),decreasing = T)\n",
        "    eve <- ei$vectors\n",
        "    taus <- -tau/log(eva[-1])\n",
        "    list(eva=eva,eve=eve,taus=taus)\n",
        "}\n",
        "\n",
        "lag_list <- c(1,2,5,10,20,50,100,200,500,\n",
        "              1000,2000,5000,10000,20000)\n",
        "\n",
        "ntaus <- 6 # Consider this many eigenvectors\n",
        "tau_matrix <- matrix(0,length(lag_list),ntaus)\n",
        "li <- 1\n",
        "for(lag in lag_list) {\n",
        "    etaus <- evanalysis(lag)$taus\n",
        "    tau_matrix[li,] <- head(etaus,ntaus)\n",
        "    li <- li+1\n",
        "}\n",
        "\n",
        "matplot(lag_list,tau_matrix,type=\"o\",log=\"xy\",\n",
        "        xlab=\"Lag time τ\",ylab=\"Implied timescales at τ\")\n",
        "lines(1:10000,1:10000,lwd=4,col=\"grey\",lty=2)"
      ]
    },
    {
      "cell_type": "markdown",
      "metadata": {
        "id": "zysnkR6nujKq"
      },
      "source": [
        "\n",
        "So, in this specific case, the implied timescales\n",
        "are independent of $\\tau$. This is a lucky situation\n",
        "due to the fact that it is **truly** a two-state\n",
        "system, with one finely-discretized dimension,\n",
        "and (literally) no \"orthogonal\" degrees of freedom. \n",
        "\n",
        "## Macrostates\n",
        "\n",
        "In practice, as soon as the system gets more complicated,\n",
        "one faces other situations. For example, the \n",
        "large separation of timescales may motivate\n",
        "us to discretize the system into two macrostates.\n",
        "In practice, one will lump many states into one,\n",
        "and recompute the transition matrices, eigenvectors,\n",
        "etc. \n",
        "\n",
        "Macrostates should be defined *kinetically*, i.e., \n",
        "they should hold configurations in interchanging\n",
        "relatively rapidly within them, separated by barriers.\n",
        "This decomposition may or may not correspond to\n",
        "distances in a space defined on the basis of structures.\n",
        "\n",
        "The zeros of the eigenvectors (see above) are a \n",
        "good starting point for defining kinetic basin boundaries.\n",
        "This can be done by inspection (in a simple\n",
        "case like this) or automatically (by the PCCA+ algorithm).\n",
        "Let's see two possible choices.\n",
        "\n",
        "\n",
        "![](https://github.com/giorginolab/Markov-Tutorial-UniPd-2022/blob/main/figs/fig_selval_ab.png?raw=1)\n",
        "\n",
        "The \"good discretization\" is sufficiently \n",
        "fine so that the Markovian assumption holds,\n",
        "at least approximately, especially at larger $\\tau$: \n",
        "if we construct the transition matrix looking\n",
        "at a sufficiently far future, the system will\n",
        "have lost memory of the past. Also, the discretization\n",
        "is finer where the dynamics is slower. This also \n",
        "helps. \n",
        "\n",
        "In the \"good discretization\" case, it makes perfect \n",
        "sense to compute the mean first passage\n",
        "time (MFPT) between the leftmost and rightmost \n",
        "states. In a biomolecular system, that would be \n",
        "the kinetics.\n",
        "\n",
        "In the \"bad discretization\" case, the barrier is\n",
        "embedded in one of the states. This generates \n",
        "a \"long term memory\" effect:   the rightmost state\n",
        "could actually be short-lived (if we are on the left\n",
        "of the barrier) or long-lived (if we are on its right).\n",
        "These two cases are convoluted in the same state,\n",
        "so that the state information itself is not sufficient \n",
        "any longer to predict the \"future\" of the system.\n",
        "\n",
        "The implied timescale plots reflect the two cases.\n",
        "Note the lack of convergence in the \"bad\" case (no plateau).\n",
        "\n",
        "![](https://github.com/giorginolab/Markov-Tutorial-UniPd-2022/blob/main/figs/its.png?raw=1)\n",
        "\n",
        "\n",
        "# Further study and play\n",
        "\n",
        "This worksheet is based on [PyEmma's Model selection and validation](http://www.emma-project.org/latest/generated/model_selection_validation.html) tutorial. The  tutorial uses a decimated version of\n",
        "the dataset used here (here loaded in the `d10`\n",
        "variable). What happens if you repeat\n",
        "the  analysis of this document on the decimated\n",
        "dataset? Can you explain the differences?\n",
        "\n",
        "You are encouraged to check the following software packages and the corresponding tutorials and datasets:\n",
        "\n",
        " * [PyEmma](http://www.emma-project.org)\n",
        " * [HTMD](https://www.htmd.org/)\n",
        " * [MSMBuilder](http://msmbuilder.org/)\n",
        " \n",
        "\n",
        "Relevant papers (a selection)\n",
        "\n",
        "1. Scherer MK, Trendelkamp-Schroer B, Paul F, Pérez-Hernández G, Hoffmann M, Plattner N, et al. PyEMMA 2: A Software Package for Estimation, Validation, and Analysis of Markov Models. J Chem Theory Comput. 2015 Nov 10;11(11):5525–42. \n",
        "1. Plattner N, Doerr S, De Fabritiis G, Noé F. Complete protein–protein association kinetics in atomic detail revealed by molecular dynamics simulations and Markov modelling. Nat Chem [Internet]. 2017 Jun 5 [cited 2017 Jun 9];advance online publication. Available from: http://www.nature.com/nchem/journal/vaop/ncurrent/full/nchem.2785.html?WT.feed_name=subjects_molecular-biology\n",
        "2. Chodera JD, Noé F. Markov state models of biomolecular conformational dynamics. Current Opinion in Structural Biology. 2014 Apr 1;25(Supplement C):135–44. \n",
        "3. Noé F, Fischer S. Transition networks for modeling the kinetics of conformational change in macromolecules. Current Opinion in Structural Biology. 2008 Apr 1;18(2):154–62. \n",
        "1. Pérez-Hernández G, Paul F, Giorgino T, De Fabritiis G, Noé F. Identification of slow molecular order parameters for Markov model construction. The Journal of Chemical Physics. 2013 Jul 3;139(1):015102-015102-13. \n",
        "1. Buch I, Giorgino T, De Fabritiis G. Complete reconstruction of an enzyme-inhibitor binding process by molecular dynamics simulations. Proc Natl Acad Sci USA. 2011 Jun 6;108(25):10184–9. \n",
        "\n"
      ]
    },
    {
      "cell_type": "code",
      "execution_count": null,
      "metadata": {
        "id": "wVRwGhu7ujLF"
      },
      "outputs": [],
      "source": [
        ""
      ]
    },
    {
      "cell_type": "code",
      "execution_count": null,
      "metadata": {
        "id": "_UPE-LcEujLS"
      },
      "outputs": [],
      "source": [
        ""
      ]
    }
  ],
  "metadata": {
    "colab": {
      "name": "Untitled1.ipynb",
      "provenance": []
    },
    "kernelspec": {
      "display_name": "R",
      "language": "R",
      "name": "ir"
    },
    "language_info": {
      "codemirror_mode": "r",
      "file_extension": ".r",
      "mimetype": "text/x-r-source",
      "name": "R",
      "pygments_lexer": "r",
      "version": "4.0.3"
    }
  },
  "nbformat": 4,
  "nbformat_minor": 0
}